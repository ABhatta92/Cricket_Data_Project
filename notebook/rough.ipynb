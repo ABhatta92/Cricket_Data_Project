{
 "cells": [
  {
   "cell_type": "code",
   "execution_count": 1,
   "metadata": {},
   "outputs": [],
   "source": [
    "from pyspark.sql import SparkSession\n",
    "from pyspark.sql.functions import *\n",
    "from pyspark.sql.types import *\n",
    "\n",
    "import os\n",
    "import sys\n",
    "\n",
    "current_dir = os.getcwd()\n",
    "root_dir = os.path.abspath(os.path.join(current_dir, os.pardir))\n",
    "sys.path.insert(0, root_dir)\n",
    "\n",
    "from scripts.common_functions import *"
   ]
  },
  {
   "cell_type": "code",
   "execution_count": 2,
   "metadata": {},
   "outputs": [],
   "source": [
    "# data_folder = os.path.join(root_dir, 'data')\n",
    "# data = []\n",
    "\n",
    "# for file_name in os.listdir(data_folder):\n",
    "#     if file_name.endswith('.json'):\n",
    "#         file_path = os.path.join(data_folder,file_name)\n",
    "#         print(file_path)\n",
    "        \n",
    "#         with open(file_path, 'r') as f:\n",
    "#             json_payload = json.load(f)\n",
    "\n",
    "#         data.append({\"file_path\":file_path,\"json_payload\":json_payload})\n",
    "\n",
    "# df = pd.DataFrame(data)\n",
    "\n",
    "# df.head()\n",
    "\n",
    "# # Level 1 normalization\n",
    "# df_normalized = pd.json_normalize(df['json_payload'], sep=\"_\")\n",
    "# df_normalized.head()\n",
    "\n",
    "# # Creating a match_id before explosion\n",
    "# # df_normalized['match_id'] = df_normalized['innings'].apply(lambda x : hashlib.sha256(str(x).encode()).hexdigest())\n",
    "# # First explosion due to 2 innings per match\n",
    "# exploded_df = df_normalized.explode('innings')\n",
    "# exploded_df.head()\n",
    "\n",
    "# # Collecting Key columns\n",
    "# df_meta = exploded_df[['info_dates', 'info_event_name', 'info_gender', 'info_match_type']]\n",
    "# # Level 2 normalization\n",
    "# df_final = pd.json_normalize(exploded_df['innings'], sep=\"_\")\n",
    "# final_df = pd.concat([df_meta.reset_index(drop=True), df_final.reset_index(drop=True)], axis=1)\n",
    "# final_df.head()\n",
    "\n",
    "\n",
    "# # Writing to final csv file\n",
    "# table_name = 't20_raw.csv'\n",
    "# folder_path = os.path.join(root_dir,'tables')\n",
    "\n",
    "# if not os.path.exists(folder_path):\n",
    "#     os.makedirs(folder_path)\n",
    "#     print(f\"Folder '{folder_path}' created.\")\n",
    "# else:\n",
    "#     print(f\"Folder '{folder_path}' already exists.\")\n",
    "\n",
    "# final_df.to_csv(os.path.join(folder_path,table_name), index=False)"
   ]
  },
  {
   "cell_type": "code",
   "execution_count": 3,
   "metadata": {},
   "outputs": [
    {
     "name": "stdout",
     "output_type": "stream",
     "text": [
      "+--------------------+--------------------+----------+--------------------+------+----------+-----------+------------+-----------+-----------+-----------------+----------------+--------------------+--------------------+\n",
      "|            match_id|          innings_id|match_date|          event_name|gender|match_type|       team|target_overs|target_runs|absent_hurt|penalty_runs_post|penalty_runs_pre|               overs|          powerplays|\n",
      "+--------------------+--------------------+----------+--------------------+------+----------+-----------+------------+-----------+-----------+-----------------+----------------+--------------------+--------------------+\n",
      "|f45476aade5497567...|8c032156156ba7fda...|2017-02-17|Sri Lanka in Aust...|  male|       T20|  Australia|        NULL|       NULL|       NULL|             NULL|            NULL|[{'over': 0, 'del...|[{'from': 0.1, 't...|\n",
      "|f45476aade5497567...|ccf7f3f9c2c871888...|2017-02-17|Sri Lanka in Aust...|  male|       T20|  Sri Lanka|        20.0|      169.0|       NULL|             NULL|            NULL|[{'over': 0, 'del...|[{'from': 0.1, 't...|\n",
      "|d25211a68f230b803...|9a5bc3f65795a11d8...|2017-02-19|Sri Lanka in Aust...|  male|       T20|  Australia|        NULL|       NULL|       NULL|             NULL|            NULL|[{'over': 0, 'del...|[{'from': 0.1, 't...|\n",
      "|d25211a68f230b803...|bbb30fcce7d088a8b...|2017-02-19|Sri Lanka in Aust...|  male|       T20|  Sri Lanka|        20.0|      174.0|       NULL|             NULL|            NULL|[{'over': 0, 'del...|[{'from': 0.1, 't...|\n",
      "|9e4eed1fcae10d233...|6f5a1e4d584bf49ee...|2017-02-22|Sri Lanka in Aust...|  male|       T20|  Australia|        NULL|       NULL|       NULL|             NULL|            NULL|[{'over': 0, 'del...|[{'from': 0.1, 't...|\n",
      "|9e4eed1fcae10d233...|84677c3f8c3fa518c...|2017-02-22|Sri Lanka in Aust...|  male|       T20|  Sri Lanka|        20.0|      188.0|       NULL|             NULL|            NULL|[{'over': 0, 'del...|[{'from': 0.1, 't...|\n",
      "|5053e25d2ca56e5e5...|aee5c3b64cfa6b25a...|2016-09-05|Hong Kong in Irel...|  male|       T20|  Hong Kong|        NULL|       NULL|       NULL|             NULL|            NULL|      \"\"\"[{'over': 0| 'deliveries': [{...|\n",
      "|5053e25d2ca56e5e5...|8286f6a1aa5162d70...|2016-09-05|Hong Kong in Irel...|  male|       T20|    Ireland|        NULL|       NULL|       NULL|             NULL|            NULL|      \"\"\"[{'over': 0| 'deliveries': [{...|\n",
      "|a582f976a7f7ddeb8...|7f4c1d27fb55f0ab8...|2016-06-18|India in Zimbabwe...|  male|       T20|   Zimbabwe|        NULL|       NULL|       NULL|             NULL|            NULL|[{'over': 0, 'del...|[{'from': 0.1, 't...|\n",
      "|a582f976a7f7ddeb8...|7b1d2c10d7d7cea86...|2016-06-18|India in Zimbabwe...|  male|       T20|      India|        20.0|      171.0|       NULL|             NULL|            NULL|[{'over': 0, 'del...|[{'from': 0.1, 't...|\n",
      "|5c39beeca5842d137...|014ff04b0145608ac...|2016-06-20|India in Zimbabwe...|  male|       T20|   Zimbabwe|        NULL|       NULL|       NULL|             NULL|            NULL|[{'over': 0, 'del...|[{'from': 0.1, 't...|\n",
      "|5c39beeca5842d137...|5b9b7693d125cf3a2...|2016-06-20|India in Zimbabwe...|  male|       T20|      India|        20.0|      100.0|       NULL|             NULL|            NULL|[{'over': 0, 'del...|[{'from': 0.1, 't...|\n",
      "|58666512ff2b76fc8...|1ecfaf9df8abe9fa3...|2016-06-22|India in Zimbabwe...|  male|       T20|      India|        NULL|       NULL|       NULL|             NULL|            NULL|[{'over': 0, 'del...|[{'from': 0.1, 't...|\n",
      "|58666512ff2b76fc8...|3c0441850bf4764e8...|2016-06-22|India in Zimbabwe...|  male|       T20|   Zimbabwe|        20.0|      139.0|       NULL|             NULL|            NULL|[{'over': 0, 'del...|[{'from': 0.1, 't...|\n",
      "|2c9969147fbbf818e...|2cf382852a3b20832...|2017-01-03|Bangladesh in New...|  male|       T20| Bangladesh|        NULL|       NULL|       NULL|             NULL|            NULL|[{'over': 0, 'del...|[{'from': 0.1, 't...|\n",
      "|2c9969147fbbf818e...|129d1b1a221e52498...|2017-01-03|Bangladesh in New...|  male|       T20|New Zealand|        20.0|      142.0|       NULL|             NULL|            NULL|[{'over': 0, 'del...|[{'from': 0.1, 't...|\n",
      "|8b92cb1e99345b9c3...|9cbb7c9e71c98429f...|2017-01-06|Bangladesh in New...|  male|       T20|New Zealand|        NULL|       NULL|       NULL|             NULL|            NULL|[{'over': 0, 'del...|[{'from': 0.1, 't...|\n",
      "|8b92cb1e99345b9c3...|23c89fa07ecdbf54c...|2017-01-06|Bangladesh in New...|  male|       T20| Bangladesh|        20.0|      196.0|       NULL|             NULL|            NULL|[{'over': 0, 'del...|[{'from': 0.1, 't...|\n",
      "|e8b813f28bd451aec...|5082451d8769568a1...|2017-01-08|Bangladesh in New...|  male|       T20|New Zealand|        NULL|       NULL|       NULL|             NULL|            NULL|[{'over': 0, 'del...|[{'from': 0.1, 't...|\n",
      "|e8b813f28bd451aec...|8c0aab04e1218a14c...|2017-01-08|Bangladesh in New...|  male|       T20| Bangladesh|        20.0|      195.0|       NULL|             NULL|            NULL|[{'over': 0, 'del...|[{'from': 0.1, 't...|\n",
      "+--------------------+--------------------+----------+--------------------+------+----------+-----------+------------+-----------+-----------+-----------------+----------------+--------------------+--------------------+\n",
      "only showing top 20 rows\n",
      "\n"
     ]
    }
   ],
   "source": [
    "spark = create_spark_session(\"raw_to_cleansed_matches\")\n",
    "\n",
    "table_name = 't20_matches_cleansed.csv'\n",
    "folder_path = os.path.join(root_dir,'tables')\n",
    "\n",
    "spark = create_spark_session(\"raw_to_cleansed_innings\")\n",
    "\n",
    "df = spark.read.csv(os.path.join(folder_path, table_name), header=True)\n",
    "df.show()"
   ]
  },
  {
   "cell_type": "code",
   "execution_count": 4,
   "metadata": {},
   "outputs": [],
   "source": [
    "df_overs = df.select('innings_id', 'overs')"
   ]
  },
  {
   "cell_type": "code",
   "execution_count": 5,
   "metadata": {},
   "outputs": [],
   "source": [
    "overs_schema = 'ARRAY<STRUCT<over: BIGINT,deliveries: ARRAY<STRUCT<batter: STRING,bowler: STRING,non_striker: STRING,runs: STRUCT<batter: BIGINT,extras: BIGINT,total: BIGINT>,extras: STRUCT<wides: BIGINT,byes: BIGINT,legbyes: BIGINT,noballs: BIGINT,penalty: BIGINT>>>>>'"
   ]
  },
  {
   "cell_type": "code",
   "execution_count": 6,
   "metadata": {},
   "outputs": [
    {
     "name": "stdout",
     "output_type": "stream",
     "text": [
      "+--------------------+----+---------+---------------+-----------+------------+----------+----------+-----+----+-------+-------+-------+\n",
      "|          innings_id|over|   batter|         bowler|non_striker|runs_off_bat|runs_extra|total_runs|wides|byes|legbyes|noballs|penalty|\n",
      "+--------------------+----+---------+---------------+-----------+------------+----------+----------+-----+----+-------+-------+-------+\n",
      "|8c032156156ba7fda...|   0| AJ Finch|     SL Malinga|  M Klinger|           0|         0|         0| NULL|NULL|   NULL|   NULL|   NULL|\n",
      "|8c032156156ba7fda...|   0| AJ Finch|     SL Malinga|  M Klinger|           0|         0|         0| NULL|NULL|   NULL|   NULL|   NULL|\n",
      "|8c032156156ba7fda...|   0| AJ Finch|     SL Malinga|  M Klinger|           1|         0|         1| NULL|NULL|   NULL|   NULL|   NULL|\n",
      "|8c032156156ba7fda...|   0|M Klinger|     SL Malinga|   AJ Finch|           2|         0|         2| NULL|NULL|   NULL|   NULL|   NULL|\n",
      "|8c032156156ba7fda...|   0|M Klinger|     SL Malinga|   AJ Finch|           0|         0|         0| NULL|NULL|   NULL|   NULL|   NULL|\n",
      "|8c032156156ba7fda...|   0|M Klinger|     SL Malinga|   AJ Finch|           3|         0|         3| NULL|NULL|   NULL|   NULL|   NULL|\n",
      "|8c032156156ba7fda...|   1|M Klinger|KMDN Kulasekara|   AJ Finch|           0|         0|         0| NULL|NULL|   NULL|   NULL|   NULL|\n",
      "|8c032156156ba7fda...|   1|M Klinger|KMDN Kulasekara|   AJ Finch|           1|         0|         1| NULL|NULL|   NULL|   NULL|   NULL|\n",
      "|8c032156156ba7fda...|   1| AJ Finch|KMDN Kulasekara|  M Klinger|           0|         0|         0| NULL|NULL|   NULL|   NULL|   NULL|\n",
      "|8c032156156ba7fda...|   1| AJ Finch|KMDN Kulasekara|  M Klinger|           0|         0|         0| NULL|NULL|   NULL|   NULL|   NULL|\n",
      "|8c032156156ba7fda...|   1| AJ Finch|KMDN Kulasekara|  M Klinger|           4|         0|         4| NULL|NULL|   NULL|   NULL|   NULL|\n",
      "|8c032156156ba7fda...|   1| AJ Finch|KMDN Kulasekara|  M Klinger|           2|         0|         2| NULL|NULL|   NULL|   NULL|   NULL|\n",
      "|8c032156156ba7fda...|   2|M Klinger|  JRMVB Sanjaya|   AJ Finch|           1|         0|         1| NULL|NULL|   NULL|   NULL|   NULL|\n",
      "|8c032156156ba7fda...|   2| AJ Finch|  JRMVB Sanjaya|  M Klinger|           1|         0|         1| NULL|NULL|   NULL|   NULL|   NULL|\n",
      "|8c032156156ba7fda...|   2|M Klinger|  JRMVB Sanjaya|   AJ Finch|           0|         0|         0| NULL|NULL|   NULL|   NULL|   NULL|\n",
      "|8c032156156ba7fda...|   2|M Klinger|  JRMVB Sanjaya|   AJ Finch|           0|         0|         0| NULL|NULL|   NULL|   NULL|   NULL|\n",
      "|8c032156156ba7fda...|   2|M Klinger|  JRMVB Sanjaya|   AJ Finch|           4|         0|         4| NULL|NULL|   NULL|   NULL|   NULL|\n",
      "|8c032156156ba7fda...|   2|M Klinger|  JRMVB Sanjaya|   AJ Finch|           0|         0|         0| NULL|NULL|   NULL|   NULL|   NULL|\n",
      "|8c032156156ba7fda...|   3| AJ Finch|KMDN Kulasekara|  M Klinger|           0|         0|         0| NULL|NULL|   NULL|   NULL|   NULL|\n",
      "|8c032156156ba7fda...|   3| AJ Finch|KMDN Kulasekara|  M Klinger|           1|         0|         1| NULL|NULL|   NULL|   NULL|   NULL|\n",
      "+--------------------+----+---------+---------------+-----------+------------+----------+----------+-----+----+-------+-------+-------+\n",
      "only showing top 20 rows\n",
      "\n"
     ]
    }
   ],
   "source": [
    "df_overs = df_overs.withColumn('overs_parsed', from_json(col('overs'), overs_schema))\n",
    "df_overs = df_overs.withColumn('overs_exploded', explode(col('overs_parsed')))\n",
    "df_overs = df_overs.select('innings_id', 'overs_exploded.over', 'overs_exploded.deliveries')\n",
    "df_overs = df_overs.withColumn('deliveries_exploded', explode('deliveries'))\n",
    "df_overs = df_overs.select(col('innings_id'), col('over'), col('deliveries_exploded.batter'), col('deliveries_exploded.bowler'), col('deliveries_exploded.non_striker'), col('deliveries_exploded.runs.batter').alias('runs_off_bat'), col('deliveries_exploded.runs.extras').alias('runs_extra'), col('deliveries_exploded.runs.total').alias('total_runs'), col('deliveries_exploded.extras.wides').alias('wides'), col('deliveries_exploded.extras.byes').alias('byes'), col('deliveries_exploded.extras.legbyes').alias('legbyes'), col('deliveries_exploded.extras.noballs').alias('noballs'), col('deliveries_exploded.extras.penalty').alias('penalty'))\n",
    "df_overs.show(truncate=True)"
   ]
  },
  {
   "cell_type": "code",
   "execution_count": 7,
   "metadata": {},
   "outputs": [
    {
     "name": "stdout",
     "output_type": "stream",
     "text": [
      "+--------------------+--------------------+----------+--------------------+------+----------+---------+----+---------+---------------+-----------+------------+----------+----------+-----+----+-------+-------+-------+\n",
      "|          innings_id|            match_id|match_date|          event_name|gender|match_type|     team|over|   batter|         bowler|non_striker|runs_off_bat|runs_extra|total_runs|wides|byes|legbyes|noballs|penalty|\n",
      "+--------------------+--------------------+----------+--------------------+------+----------+---------+----+---------+---------------+-----------+------------+----------+----------+-----+----+-------+-------+-------+\n",
      "|9a5bc3f65795a11d8...|d25211a68f230b803...|2017-02-19|Sri Lanka in Aust...|  male|       T20|Australia|   0|M Klinger|     SL Malinga|   AJ Finch|           0|         0|         0| NULL|NULL|   NULL|   NULL|   NULL|\n",
      "|9a5bc3f65795a11d8...|d25211a68f230b803...|2017-02-19|Sri Lanka in Aust...|  male|       T20|Australia|   0|M Klinger|     SL Malinga|   AJ Finch|           1|         0|         1| NULL|NULL|   NULL|   NULL|   NULL|\n",
      "|9a5bc3f65795a11d8...|d25211a68f230b803...|2017-02-19|Sri Lanka in Aust...|  male|       T20|Australia|   0| AJ Finch|     SL Malinga|  M Klinger|           0|         0|         0| NULL|NULL|   NULL|   NULL|   NULL|\n",
      "|9a5bc3f65795a11d8...|d25211a68f230b803...|2017-02-19|Sri Lanka in Aust...|  male|       T20|Australia|   0| AJ Finch|     SL Malinga|  M Klinger|           4|         0|         4| NULL|NULL|   NULL|   NULL|   NULL|\n",
      "|9a5bc3f65795a11d8...|d25211a68f230b803...|2017-02-19|Sri Lanka in Aust...|  male|       T20|Australia|   0| AJ Finch|     SL Malinga|  M Klinger|           0|         1|         1| NULL|NULL|      1|   NULL|   NULL|\n",
      "|9a5bc3f65795a11d8...|d25211a68f230b803...|2017-02-19|Sri Lanka in Aust...|  male|       T20|Australia|   0|M Klinger|     SL Malinga|   AJ Finch|           1|         0|         1| NULL|NULL|   NULL|   NULL|   NULL|\n",
      "|9a5bc3f65795a11d8...|d25211a68f230b803...|2017-02-19|Sri Lanka in Aust...|  male|       T20|Australia|   1|M Klinger|KMDN Kulasekara|   AJ Finch|           0|         1|         1|    1|NULL|   NULL|   NULL|   NULL|\n",
      "|9a5bc3f65795a11d8...|d25211a68f230b803...|2017-02-19|Sri Lanka in Aust...|  male|       T20|Australia|   1|M Klinger|KMDN Kulasekara|   AJ Finch|           1|         0|         1| NULL|NULL|   NULL|   NULL|   NULL|\n",
      "|9a5bc3f65795a11d8...|d25211a68f230b803...|2017-02-19|Sri Lanka in Aust...|  male|       T20|Australia|   1| AJ Finch|KMDN Kulasekara|  M Klinger|           2|         0|         2| NULL|NULL|   NULL|   NULL|   NULL|\n",
      "|9a5bc3f65795a11d8...|d25211a68f230b803...|2017-02-19|Sri Lanka in Aust...|  male|       T20|Australia|   1| AJ Finch|KMDN Kulasekara|  M Klinger|           2|         0|         2| NULL|NULL|   NULL|   NULL|   NULL|\n",
      "|9a5bc3f65795a11d8...|d25211a68f230b803...|2017-02-19|Sri Lanka in Aust...|  male|       T20|Australia|   1| AJ Finch|KMDN Kulasekara|  M Klinger|           4|         0|         4| NULL|NULL|   NULL|   NULL|   NULL|\n",
      "|9a5bc3f65795a11d8...|d25211a68f230b803...|2017-02-19|Sri Lanka in Aust...|  male|       T20|Australia|   1| AJ Finch|KMDN Kulasekara|  M Klinger|           0|         0|         0| NULL|NULL|   NULL|   NULL|   NULL|\n",
      "|9a5bc3f65795a11d8...|d25211a68f230b803...|2017-02-19|Sri Lanka in Aust...|  male|       T20|Australia|   1| AJ Finch|KMDN Kulasekara|  M Klinger|           0|         0|         0| NULL|NULL|   NULL|   NULL|   NULL|\n",
      "|9a5bc3f65795a11d8...|d25211a68f230b803...|2017-02-19|Sri Lanka in Aust...|  male|       T20|Australia|   2|M Klinger|  JRMVB Sanjaya|   AJ Finch|           0|         0|         0| NULL|NULL|   NULL|   NULL|   NULL|\n",
      "|9a5bc3f65795a11d8...|d25211a68f230b803...|2017-02-19|Sri Lanka in Aust...|  male|       T20|Australia|   2|M Klinger|  JRMVB Sanjaya|   AJ Finch|           1|         0|         1| NULL|NULL|   NULL|   NULL|   NULL|\n",
      "|9a5bc3f65795a11d8...|d25211a68f230b803...|2017-02-19|Sri Lanka in Aust...|  male|       T20|Australia|   2| AJ Finch|  JRMVB Sanjaya|  M Klinger|           0|         0|         0| NULL|NULL|   NULL|   NULL|   NULL|\n",
      "|9a5bc3f65795a11d8...|d25211a68f230b803...|2017-02-19|Sri Lanka in Aust...|  male|       T20|Australia|   2| AJ Finch|  JRMVB Sanjaya|  M Klinger|           0|         0|         0| NULL|NULL|   NULL|   NULL|   NULL|\n",
      "|9a5bc3f65795a11d8...|d25211a68f230b803...|2017-02-19|Sri Lanka in Aust...|  male|       T20|Australia|   2|  BR Dunk|  JRMVB Sanjaya|  M Klinger|           0|         0|         0| NULL|NULL|   NULL|   NULL|   NULL|\n",
      "|9a5bc3f65795a11d8...|d25211a68f230b803...|2017-02-19|Sri Lanka in Aust...|  male|       T20|Australia|   2|  BR Dunk|  JRMVB Sanjaya|  M Klinger|           0|         0|         0| NULL|NULL|   NULL|   NULL|   NULL|\n",
      "|9a5bc3f65795a11d8...|d25211a68f230b803...|2017-02-19|Sri Lanka in Aust...|  male|       T20|Australia|   3|M Klinger|KMDN Kulasekara|    BR Dunk|           0|         1|         1|    1|NULL|   NULL|   NULL|   NULL|\n",
      "+--------------------+--------------------+----------+--------------------+------+----------+---------+----+---------+---------------+-----------+------------+----------+----------+-----+----+-------+-------+-------+\n",
      "only showing top 20 rows\n",
      "\n"
     ]
    }
   ],
   "source": [
    "df_meta = df.select('match_id','innings_id','match_date','event_name','gender','match_type','team')\n",
    "\n",
    "df_final = df_meta.join(df_overs, how='inner', on='innings_id')\n",
    "\n",
    "df_final.show()"
   ]
  },
  {
   "cell_type": "code",
   "execution_count": null,
   "metadata": {},
   "outputs": [],
   "source": []
  },
  {
   "cell_type": "code",
   "execution_count": null,
   "metadata": {},
   "outputs": [],
   "source": []
  }
 ],
 "metadata": {
  "kernelspec": {
   "display_name": "Python 3",
   "language": "python",
   "name": "python3"
  },
  "language_info": {
   "codemirror_mode": {
    "name": "ipython",
    "version": 3
   },
   "file_extension": ".py",
   "mimetype": "text/x-python",
   "name": "python",
   "nbconvert_exporter": "python",
   "pygments_lexer": "ipython3",
   "version": "3.12.6"
  }
 },
 "nbformat": 4,
 "nbformat_minor": 2
}
