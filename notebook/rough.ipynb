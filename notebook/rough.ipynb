{
 "cells": [
  {
   "cell_type": "code",
   "execution_count": 1,
   "metadata": {},
   "outputs": [],
   "source": [
    "from pyspark.sql import SparkSession\n",
    "from pyspark.sql.functions import *\n",
    "from pyspark.sql.types import *\n",
    "\n",
    "import os\n",
    "import sys\n",
    "\n",
    "current_dir = os.getcwd()\n",
    "root_dir = os.path.abspath(os.path.join(current_dir, os.pardir))\n",
    "sys.path.insert(0, root_dir)\n",
    "\n",
    "from scripts.common_functions import *"
   ]
  },
  {
   "cell_type": "code",
   "execution_count": null,
   "metadata": {},
   "outputs": [
    {
     "name": "stdout",
     "output_type": "stream",
     "text": [
      "+----------------------------------------------------------------+-----------------------------------------------+\n",
      "|innings_id                                                      |powerplays                                     |\n",
      "+----------------------------------------------------------------+-----------------------------------------------+\n",
      "|8c032156156ba7fda929a6d122ce9ddfa8f199f74d187c85ab9b91f90e5eaa46|[{'from': 0.1, 'to': 5.7, 'type': 'mandatory'}]|\n",
      "|ccf7f3f9c2c8718883934ca199a3544f4805618fc80ed0c4c541956eb5b167b6|[{'from': 0.1, 'to': 5.6, 'type': 'mandatory'}]|\n",
      "|9a5bc3f65795a11d8c26bbc189bde65cbf41b44e926ab33c0d7eb8de690f8d34|[{'from': 0.1, 'to': 5.6, 'type': 'mandatory'}]|\n",
      "|bbb30fcce7d088a8b576daad10ccc5e88e05a36c79509676b94ed6d70f26c0aa|[{'from': 0.1, 'to': 5.6, 'type': 'mandatory'}]|\n",
      "|6f5a1e4d584bf49ee5b60f8a1ecaa769daa57e514506cdaab469e9fafc5aecd4|[{'from': 0.1, 'to': 5.7, 'type': 'mandatory'}]|\n",
      "|84677c3f8c3fa518ce0933febf167e655c276fdc94ea4222e3392b7bf18d632c|[{'from': 0.1, 'to': 5.6, 'type': 'mandatory'}]|\n",
      "|aee5c3b64cfa6b25a00ef5d6d7c9bedfd3a7f4748a390dd14d67e220cb3dd583| 'deliveries': [{'batter': 'Nizakat Khan'      |\n",
      "|8286f6a1aa5162d70c254ec65cf77251014fe364fad1e66f637e160312d73e8a| 'deliveries': [{'batter': 'WTS Porterfield'   |\n",
      "|7f4c1d27fb55f0ab8d36d1eeaca73fa22fddc0183ce135b9fb3b7c639d4d6610|[{'from': 0.1, 'to': 5.6, 'type': 'mandatory'}]|\n",
      "|7b1d2c10d7d7cea86d62054d62461e4dcf2de3ddbea0710c7ca179d1d5f0f65a|[{'from': 0.1, 'to': 5.6, 'type': 'mandatory'}]|\n",
      "|014ff04b0145608ac1d321e24e16cf937034ecffdd6b9d08dfdc2b3b31d6fed1|[{'from': 0.1, 'to': 5.6, 'type': 'mandatory'}]|\n",
      "|5b9b7693d125cf3a2c1e460e0df32a5a364d60a3f524e12be624353900476bf7|[{'from': 0.1, 'to': 5.6, 'type': 'mandatory'}]|\n",
      "|1ecfaf9df8abe9fa3977c30b373b5ae78390a299003222df86cf4ef158f71344|[{'from': 0.1, 'to': 5.6, 'type': 'mandatory'}]|\n",
      "|3c0441850bf4764e87a914283f091dd3ee0efd579caa39e6f9b9ce7a2a28d245|[{'from': 0.1, 'to': 5.6, 'type': 'mandatory'}]|\n",
      "|2cf382852a3b208329343482d12769ec39c65b48f946bcc3e963ce0182261c97|[{'from': 0.1, 'to': 5.6, 'type': 'mandatory'}]|\n",
      "|129d1b1a221e524985bb78e8d97cee9384bb49a082294d067bdeaeb90d8021a5|[{'from': 0.1, 'to': 5.7, 'type': 'mandatory'}]|\n",
      "|9cbb7c9e71c98429ff219ddc5432f7bff6747066db665f3ccde9c1ac8c6d3300|[{'from': 0.1, 'to': 5.6, 'type': 'mandatory'}]|\n",
      "|23c89fa07ecdbf54c9127c7210e8060b7263706fcf2f67093e5cd7375411b069|[{'from': 0.1, 'to': 5.6, 'type': 'mandatory'}]|\n",
      "|5082451d8769568a1b4ac4529e6ec04d55fcd300614a1cf3df80ad058fcb0af2|[{'from': 0.1, 'to': 5.6, 'type': 'mandatory'}]|\n",
      "|8c0aab04e1218a14c66bf0e425d99f74c67a77cd07f7eab207166084536a5485|[{'from': 0.1, 'to': 5.6, 'type': 'mandatory'}]|\n",
      "+----------------------------------------------------------------+-----------------------------------------------+\n",
      "only showing top 20 rows\n",
      "\n"
     ]
    }
   ],
   "source": []
  },
  {
   "cell_type": "code",
   "execution_count": 6,
   "metadata": {},
   "outputs": [
    {
     "name": "stdout",
     "output_type": "stream",
     "text": [
      " 'deliveries': [{'batter': 'Nizakat Khan'\n"
     ]
    }
   ],
   "source": [
    "sample_json = df_powerplays.select('powerplays').collect()[6][0]\n",
    "print(sample_json)"
   ]
  },
  {
   "cell_type": "code",
   "execution_count": null,
   "metadata": {},
   "outputs": [],
   "source": []
  }
 ],
 "metadata": {
  "kernelspec": {
   "display_name": "Python 3",
   "language": "python",
   "name": "python3"
  },
  "language_info": {
   "codemirror_mode": {
    "name": "ipython",
    "version": 3
   },
   "file_extension": ".py",
   "mimetype": "text/x-python",
   "name": "python",
   "nbconvert_exporter": "python",
   "pygments_lexer": "ipython3",
   "version": "3.12.6"
  }
 },
 "nbformat": 4,
 "nbformat_minor": 2
}
